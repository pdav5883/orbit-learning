{
 "cells": [
  {
   "cell_type": "markdown",
   "id": "8e2e438d",
   "metadata": {},
   "source": [
    "# Lesson 0: Python Crash Course\n",
    "Welcome! If you're brand new to Python and/or Jupyter Notebooks, this notebook should help you get started."
   ]
  },
  {
   "cell_type": "markdown",
   "id": "ae91f078",
   "metadata": {},
   "source": [
    "## 0.1 Navigating this File\n",
    "Before we start talking about Python let's talk about where you are right now. This file is a _Jupyter Notebook_, it is a convenient way to interact with Python code in an easy-to-use environment.\n",
    "\n",
    "__Double click__ this _cell_, and you will be able to edit the cell's text.\n",
    "\n",
    "Add your name, or your favorite word, or anything here:____________\n",
    "\n",
    "To exit editing mode make sure you have clicked anywhere in the cell and either:\n",
    "\n",
    "1. In the top menu click `Run -> Run Selected Cells` (or `Cell -> Run Cells` depending on where you're running this file)\n",
    "2. Click the Run/Play button (sideways triangle) in the banner.\n",
    "3. Press `Ctrl + Enter`"
   ]
  },
  {
   "cell_type": "markdown",
   "id": "4f6258ac",
   "metadata": {},
   "source": [
    "### 0.1.1 Formatting\n",
    "\n",
    "Text cells like this are called _Markdown_ cells. You can do lots of different text formating:\n",
    " - Bulleted\n",
    " - Lists\n",
    " 1. Numbered\n",
    " 2. Lists\n",
    " _Italic text_\n",
    " __Bold text__\n",
    " ## Headings\n",
    " ### of different\n",
    " #### levels\n",
    " \n",
    " Images: ![](images/earth.jpg)\n",
    " \n",
    " Equations: $$ e^{i\\pi} = -1 $$\n",
    " \n",
    " And much more that you can find [here](https://www.markdownguide.org/cheat-sheet/)."
   ]
  },
  {
   "cell_type": "markdown",
   "id": "25ba3a0c",
   "metadata": {},
   "source": [
    "### 0.1.2 New Cells\n",
    "\n",
    "You can insert new cells from the banner with the \"plus\" button (or `Cell -> Insert Cell Below` depending on where you are running the notebook.\n",
    "\n",
    "When a new cell is created, the type of the cell is \"Code\" by default. Change this to \"Markdown\" using the dropdown on the right side of the banner to enter mark-up text like this."
   ]
  },
  {
   "cell_type": "markdown",
   "id": "79dc25dd",
   "metadata": {},
   "source": [
    "## 0.2 First Steps with Python\n",
    "Markdown cells like this allow you to write formatted text for explanation and storytelling, but the real point of the notebook is to be able to run Python code, which you do in a _Code_ cell, like the one below. Click into the cell and run it."
   ]
  },
  {
   "cell_type": "code",
   "execution_count": 8,
   "id": "71624efa",
   "metadata": {},
   "outputs": [
    {
     "name": "stdout",
     "output_type": "stream",
     "text": [
      "Hello. My name is: Inigo Montoya.\n"
     ]
    }
   ],
   "source": [
    "# this line is a comment, it doesn't get run\n",
    "message = \"Hello. My name is: Inigo Montoya.\"\n",
    "print(message)"
   ]
  },
  {
   "cell_type": "markdown",
   "id": "07e1611e",
   "metadata": {},
   "source": [
    "### 0.2.1 Variables\n",
    "The first line above created a _variable_, `message`, assigned that variable a value (the text you put in quotes), and then printed the variable.\n",
    "\n",
    "Variables names can be any sequence of characters, with some rules you'll figure out later.\n",
    "\n",
    "The _type_ of the variable `message` above was `str` (i.e. string, text). You can also have numbers, booleans, lists, and many other types. Unlike some other languages, you do not need to specify the type of a variable, and can switch types when you need.\n",
    "\n",
    "Mess around with some of the lines below and run."
   ]
  },
  {
   "cell_type": "code",
   "execution_count": 6,
   "id": "f911cb83",
   "metadata": {},
   "outputs": [
    {
     "name": "stdout",
     "output_type": "stream",
     "text": [
      "hello 33 False [1, 2, 3]\n",
      "goodbye 10 True goodbye again\n"
     ]
    }
   ],
   "source": [
    "a = \"hello\"\n",
    "b = 33\n",
    "c = False\n",
    "d = [1, 2, 3]\n",
    "\n",
    "print(a, b, c, d)\n",
    "\n",
    "a = \"goodbye\"\n",
    "b = 10\n",
    "c = True\n",
    "d = \"goodbye again\"\n",
    "\n",
    "print(a, b, c, d)"
   ]
  },
  {
   "cell_type": "markdown",
   "id": "1e64af6b",
   "metadata": {},
   "source": [
    "### 0.2.2 Basic Operations\n",
    "Variables can interact with one another depending on type. The basic operations are built-in and assigned to special characters."
   ]
  },
  {
   "cell_type": "code",
   "execution_count": 14,
   "id": "121597d1",
   "metadata": {},
   "outputs": [
    {
     "name": "stdout",
     "output_type": "stream",
     "text": [
      "30\n",
      "hellogoodbye\n",
      "False True\n"
     ]
    }
   ],
   "source": [
    "x = 10\n",
    "y = 20\n",
    "z = x + y\n",
    "print(z)\n",
    "\n",
    "a = \"hello\"\n",
    "b = \"goodbye\"\n",
    "c = a + b\n",
    "print(c)\n",
    "\n",
    "e = True\n",
    "f = False\n",
    "g = e and f\n",
    "h = e or f\n",
    "print(g, h)"
   ]
  },
  {
   "cell_type": "markdown",
   "id": "bc268aa3",
   "metadata": {},
   "source": [
    "### 0.2.3 Scope\n",
    "When you run some code in a cell, any variables created/changed in that cell become part of the notebook-wide memory space, so will be available in other cells. The order of cells doesn't matter, but the order that they are executed does matter. "
   ]
  },
  {
   "cell_type": "code",
   "execution_count": 20,
   "id": "33252d0d",
   "metadata": {},
   "outputs": [],
   "source": [
    "newvariable = 25"
   ]
  },
  {
   "cell_type": "code",
   "execution_count": 21,
   "id": "7c5800f4",
   "metadata": {},
   "outputs": [
    {
     "name": "stdout",
     "output_type": "stream",
     "text": [
      "35\n"
     ]
    }
   ],
   "source": [
    "b = newvariable + 10\n",
    "print(b)"
   ]
  },
  {
   "cell_type": "markdown",
   "id": "76a181e7",
   "metadata": {},
   "source": [
    "### 0.2.4 Errors\n",
    "Sometimes something will go wrong with the code you are executing. It's ok, __DON'T PANIC__! You can just edit the code that was causing the error and re-run the cell. There are many types of errors. Sometimes the error message will make it obvious how to fix your problem, sometimes not.\n",
    "\n",
    "Below are a few simple errors you might run into."
   ]
  },
  {
   "cell_type": "code",
   "execution_count": null,
   "id": "937d3b25",
   "metadata": {},
   "outputs": [],
   "source": [
    "a ="
   ]
  },
  {
   "cell_type": "code",
   "execution_count": null,
   "id": "d8ce6f62",
   "metadata": {},
   "outputs": [],
   "source": [
    "b = 33\n",
    "c = \"hello\"\n",
    "d = b / c"
   ]
  },
  {
   "cell_type": "code",
   "execution_count": null,
   "id": "edaab2a9",
   "metadata": {},
   "outputs": [],
   "source": [
    "d = \"this is a message\n",
    "e = \"this is a second message\"\n",
    "print(d, e)"
   ]
  },
  {
   "cell_type": "markdown",
   "id": "73240c25",
   "metadata": {},
   "source": [
    "## 0.3 Second Steps with Python\n",
    "It's not important to understand all of the syntax and concepts of Python before you can start doing something with the language. It's better to dive in and explore the problem you are trying to solve with the basic tools you have, and then look up (i.e. google search) things you're having trouble with or places you expect there to be a better solution.\n",
    "\n",
    "Here are a few more fundamental concepts we need to start exploring the orbit-specific problems contained in the next few notebooks."
   ]
  },
  {
   "cell_type": "markdown",
   "id": "7e420d4b",
   "metadata": {},
   "source": [
    "### 0.3.1 Lists\n",
    "There are many data structures built in to Python, and many many more implemented in add-on libraries. One we will use a lot is the `list` which is similar to an array in other languages. It is simply a sequence of values that can be accessed/edited individually (don't have to be the same type, but they usually are).\n",
    "\n",
    "Note: the first element in the list has index zero."
   ]
  },
  {
   "cell_type": "code",
   "execution_count": 24,
   "id": "e7b63da6",
   "metadata": {},
   "outputs": [
    {
     "name": "stdout",
     "output_type": "stream",
     "text": [
      "[1, 2, 3, 7]\n",
      "1\n",
      "[1, 100, 3, 7]\n",
      "[]\n",
      "[500, 501]\n"
     ]
    }
   ],
   "source": [
    "mylist = [1, 2, 3, 7]\n",
    "print(mylist)\n",
    "\n",
    "print(mylist[0])\n",
    "\n",
    "mylist[1] = 100\n",
    "print(mylist)\n",
    "\n",
    "otherlist = []\n",
    "print(otherlist)\n",
    "\n",
    "otherlist.append(500)\n",
    "otherlist.append(501)\n",
    "print(otherlist)"
   ]
  },
  {
   "cell_type": "markdown",
   "id": "2fa5e326",
   "metadata": {},
   "source": [
    "### 0.3.2 Loops\n",
    "Loops are part of (almost?) every programming language -- they allow you to do the same thing over and over without having to write the same code over and over.\n",
    "\n",
    "The main loops we will use is the `for` loop. In Python, a `for` loop executes a piece of code for each element in a list (or a list-like object), which is a bit different from other languages."
   ]
  },
  {
   "cell_type": "code",
   "execution_count": 31,
   "id": "f7f129ab",
   "metadata": {},
   "outputs": [
    {
     "name": "stdout",
     "output_type": "stream",
     "text": [
      "9\n",
      "16\n",
      "484\n",
      "0\n",
      "81\n"
     ]
    }
   ],
   "source": [
    "mylist = [3, 4, 22, 0, 9]\n",
    "\n",
    "for x in mylist:\n",
    "    print(x ** 2)"
   ]
  },
  {
   "cell_type": "code",
   "execution_count": 29,
   "id": "58520761",
   "metadata": {},
   "outputs": [
    {
     "name": "stdout",
     "output_type": "stream",
     "text": [
      "[1.5, 2.0, 11.0, 0.0, 4.5]\n"
     ]
    }
   ],
   "source": [
    "otherlist = []\n",
    "\n",
    "for y in mylist:\n",
    "    otherlist.append(y / 2)\n",
    "\n",
    "print(otherlist)"
   ]
  },
  {
   "cell_type": "markdown",
   "id": "d7d22b0a",
   "metadata": {},
   "source": [
    "### 0.3.3 If/Else"
   ]
  },
  {
   "cell_type": "markdown",
   "id": "75ceca3d",
   "metadata": {},
   "source": [
    "### 0.3.4 Functions"
   ]
  },
  {
   "cell_type": "markdown",
   "id": "7a3761b1",
   "metadata": {},
   "source": [
    "### 0.3.5 Imports"
   ]
  },
  {
   "cell_type": "code",
   "execution_count": 2,
   "id": "9774b8e6",
   "metadata": {},
   "outputs": [],
   "source": [
    "import utilities_l0 as utils"
   ]
  },
  {
   "cell_type": "markdown",
   "id": "f30bd5a1",
   "metadata": {},
   "source": [
    "## 0.4: Throw a Ball"
   ]
  },
  {
   "cell_type": "code",
   "execution_count": 3,
   "id": "93dd7a9d",
   "metadata": {},
   "outputs": [
    {
     "data": {
      "image/png": "[encoded data removed]",
      "text/plain": [
       "<Figure size 576x576 with 1 Axes>"
      ]
     },
     "metadata": {
      "needs_background": "light"
     },
     "output_type": "display_data"
    }
   ],
   "source": [
    "h = 400000  # altitude in meters\n",
    "v = 7000    # speed in meters/second\n",
    "tmax = 6000 # max time in seconds\n",
    "\n",
    "x, y = utils.throw_ball(h, v, tmax)\n",
    "# ax = utils.draw_earth()\n",
    "ax = None\n",
    "ax = utils.add_trajectory(x, y, ax)"
   ]
  },
  {
   "cell_type": "markdown",
   "id": "ba384a9d",
   "metadata": {},
   "source": [
    "### 0.4.1 Throw Many Balls\n",
    "- Defining a function\n",
    "- List\n",
    "- For loop through list"
   ]
  },
  {
   "cell_type": "code",
   "execution_count": 78,
   "id": "cf8b6402",
   "metadata": {},
   "outputs": [],
   "source": [
    "def throw_many_balls(altitude, velocities, tmax):\n",
    "    ax = utils.draw_earth()\n",
    "    \n",
    "    for v in velocities:\n",
    "        x, y = utils.throw_ball(h, v, tmax)\n",
    "        ax = utils.add_trajectory(x, y, ax)\n",
    "        \n",
    "    return ax"
   ]
  },
  {
   "cell_type": "code",
   "execution_count": 81,
   "id": "9b87cd7c",
   "metadata": {},
   "outputs": [
    {
     "data": {
      "image/png": "[encoded data removed]",
      "text/plain": [
       "<Figure size 576x576 with 1 Axes>"
      ]
     },
     "metadata": {
      "needs_background": "light"
     },
     "output_type": "display_data"
    }
   ],
   "source": [
    "h = 400000  # altitude in meters\n",
    "v_list = [1000, 2000, 3000, 4000, 5000, 6000]    # speed in meters/second\n",
    "tmax = 6000 # max time in seconds\n",
    "\n",
    "ax = throw_many_balls(h, v_list, tmax)"
   ]
  }
 ],
 "metadata": {
  "kernelspec": {
   "display_name": "Python 3",
   "language": "python",
   "name": "python3"
  },
  "language_info": {
   "codemirror_mode": {
    "name": "ipython",
    "version": 3
   },
   "file_extension": ".py",
   "mimetype": "text/x-python",
   "name": "python",
   "nbconvert_exporter": "python",
   "pygments_lexer": "ipython3",
   "version": "3.6.8"
  }
 },
 "nbformat": 4,
 "nbformat_minor": 5
}
