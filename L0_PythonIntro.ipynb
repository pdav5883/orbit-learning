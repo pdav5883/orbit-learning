{
 "cells": [
  {
   "cell_type": "markdown",
   "id": "8e2e438d",
   "metadata": {},
   "source": [
    "# Lesson 0: Python Crash Course\n",
    "Welcome! If you're brand new to Python and/or Jupyter Notebooks, this notebook should help you get started."
   ]
  },
  {
   "cell_type": "markdown",
   "id": "69d16241",
   "metadata": {},
   "source": [
    "## 0.1 Navigating this File\n",
    "Before we start talking about Python let's talk about where you are right now. This file is a _Jupyter Notebook_, it is a convenient way to interact with Python code in an easy-to-use environment.\n",
    "\n",
    "__Double click__ this _cell_, and you will be able to edit the cell's text.\n",
    "\n",
    "Add your name, or your favorite word, or anything here:____________"
   ]
  },
  {
   "cell_type": "markdown",
   "id": "ae91f078",
   "metadata": {},
   "source": [
    "To exit editing mode make sure you have clicked anywhere in the cell and either:\n",
    "\n",
    "1. In the top menu click `Run -> Run Selected Cells` (or `Cell -> Run Cells` depending on where you're running this file)\n",
    "2. Click the Run/Play button (sideways triangle) in the banner.\n",
    "3. Press `Ctrl + Enter`"
   ]
  },
  {
   "cell_type": "markdown",
   "id": "79dc25dd",
   "metadata": {},
   "source": [
    "## 0.2 First Steps with Python\n",
    "Markdown cells like this allow you to write formatted text for explanation and storytelling, but the real point of the notebook is to be able to run Python code, which you do in a _Code_ cell, like the one below. Click into the cell and run it."
   ]
  },
  {
   "cell_type": "code",
   "execution_count": null,
   "id": "71624efa",
   "metadata": {},
   "outputs": [],
   "source": [
    "# this line is a comment, it doesn't get run\n",
    "message = \"Hello. My name is: Inigo Montoya.\"\n",
    "print(message)"
   ]
  },
  {
   "cell_type": "markdown",
   "id": "07e1611e",
   "metadata": {},
   "source": [
    "### 0.2.1 Variables\n",
    "The first line above created a _variable_, `message`, assigned that variable a value (the text you put in quotes), and then printed the variable.\n",
    "\n",
    "Variables names can be any sequence of characters, with some rules you'll figure out as you go.\n",
    "\n",
    "The _type_ of the variable `message` above was `str` (i.e. string, i.e. text). You can also have integers, floating point numbers, booleans, lists, and many other types. Unlike some other languages, you do not need to specify the type of a variable, and can switch types when you need.\n",
    "\n",
    "Mess around with some of the lines below and run."
   ]
  },
  {
   "cell_type": "code",
   "execution_count": null,
   "id": "a8da14d2",
   "metadata": {},
   "outputs": [],
   "source": [
    "a = \"hello\"\n",
    "b = 33\n",
    "c = False\n",
    "d = [1, 2, 3]\n",
    "\n",
    "print(a, b, c, d)"
   ]
  },
  {
   "cell_type": "code",
   "execution_count": null,
   "id": "f911cb83",
   "metadata": {},
   "outputs": [],
   "source": [
    "a = \"goodbye\"\n",
    "b = 10\n",
    "c = True\n",
    "d = \"goodbye again\"\n",
    "\n",
    "print(a, b, c, d)"
   ]
  },
  {
   "cell_type": "markdown",
   "id": "1e64af6b",
   "metadata": {},
   "source": [
    "### 0.2.2 Basic Operations\n",
    "Variables can interact with one another depending on type. The basic operations are built-in and assigned to special characters."
   ]
  },
  {
   "cell_type": "code",
   "execution_count": null,
   "id": "81657418",
   "metadata": {},
   "outputs": [],
   "source": [
    "x = 10\n",
    "y = 20\n",
    "z = x + y\n",
    "print(z)"
   ]
  },
  {
   "cell_type": "code",
   "execution_count": null,
   "id": "de6858ee",
   "metadata": {},
   "outputs": [],
   "source": [
    "a = \"hello\"\n",
    "b = \"goodbye\"\n",
    "c = a + b\n",
    "print(c)"
   ]
  },
  {
   "cell_type": "markdown",
   "id": "76a181e7",
   "metadata": {},
   "source": [
    "### 0.2.3 Errors\n",
    "Sometimes something will go wrong with the code you are executing. It's ok, __DON'T PANIC__! You can just edit the code that was causing the error and re-run the cell. There are many types of errors. Sometimes the error message will make it obvious how to fix your problem, sometimes not.\n",
    "\n",
    "Below are a few simple errors you might run into."
   ]
  },
  {
   "cell_type": "code",
   "execution_count": null,
   "id": "937d3b25",
   "metadata": {},
   "outputs": [],
   "source": [
    "a ="
   ]
  },
  {
   "cell_type": "code",
   "execution_count": null,
   "id": "d8ce6f62",
   "metadata": {},
   "outputs": [],
   "source": [
    "b = 33\n",
    "c = \"hello\"\n",
    "d = b / c"
   ]
  },
  {
   "cell_type": "markdown",
   "id": "b6a71709",
   "metadata": {},
   "source": [
    "It's not important to understand all of the syntax and concepts of Python before you can start doing something with the language. It's better to dive in and explore the problem you are trying to solve with the basic tools you have, and then look up (i.e. google search) things you're having trouble with or places you expect there to be a better solution."
   ]
  },
  {
   "cell_type": "markdown",
   "id": "73240c25",
   "metadata": {},
   "source": [
    "## 0.3 Second Steps with Python\n",
    "Here are a few more fundamental concepts we need in order to start exploring the orbit-specific problems contained in the next few notebooks."
   ]
  },
  {
   "cell_type": "markdown",
   "id": "7e420d4b",
   "metadata": {},
   "source": [
    "### 0.3.1 Lists\n",
    "There are many data structures built in to Python, and many many more implemented in add-on libraries. One we will use a lot is the `list` which is similar to an array in other languages.\n",
    "\n",
    "__Note: the first element in a list has index zero.__"
   ]
  },
  {
   "cell_type": "code",
   "execution_count": null,
   "id": "34c4a99d",
   "metadata": {},
   "outputs": [],
   "source": [
    "mylist = [1, 2, 3, 7]\n",
    "print(mylist)"
   ]
  },
  {
   "cell_type": "code",
   "execution_count": null,
   "id": "bc99b09d",
   "metadata": {},
   "outputs": [],
   "source": [
    "print(mylist[0])"
   ]
  },
  {
   "cell_type": "code",
   "execution_count": null,
   "id": "f564784d",
   "metadata": {},
   "outputs": [],
   "source": [
    "otherlist = []\n",
    "print(otherlist)"
   ]
  },
  {
   "cell_type": "code",
   "execution_count": null,
   "id": "e7b63da6",
   "metadata": {},
   "outputs": [],
   "source": [
    "otherlist.append(500)\n",
    "otherlist.append(501)\n",
    "print(otherlist)"
   ]
  },
  {
   "cell_type": "markdown",
   "id": "2fa5e326",
   "metadata": {},
   "source": [
    "### 0.3.2 Loops\n",
    "Loops are part of (almost?) every programming language -- they allow you to do the same thing over and over without having to write the same code over and over.\n",
    "\n",
    "The main loops we will use is the `for` loop. In Python, a `for` loop executes a piece of code for each element in a list (or a list-like object), which is a bit different from other languages.\n",
    "\n",
    "__Note: the code that is executed within a Python loop is denoted by indentation.__"
   ]
  },
  {
   "cell_type": "code",
   "execution_count": null,
   "id": "f7f129ab",
   "metadata": {},
   "outputs": [],
   "source": [
    "mylist = [3, 4, 22, 0, 9]\n",
    "\n",
    "for x in mylist: # for each element \"x\" in mylist....\n",
    "    y = x * x # ...do this\n",
    "    print(y)"
   ]
  },
  {
   "cell_type": "code",
   "execution_count": null,
   "id": "58520761",
   "metadata": {},
   "outputs": [],
   "source": [
    "myotherlist = []\n",
    "\n",
    "for y in mylist: # for each element \"y\" in mylist...\n",
    "    myotherlist.append(y / 2) # ...do this\n",
    "\n",
    "print(myotherlist)"
   ]
  },
  {
   "cell_type": "markdown",
   "id": "75ceca3d",
   "metadata": {},
   "source": [
    "### 0.3.3 Functions\n",
    "Functions, called methods or routines in some other languages, are blocks of code that take inputs, run some code on those inputs, and return (produce) outputs. They can be executed repeatedly elsewhere in code.\n",
    "\n",
    "Code within a function is also denoted by its indentation level."
   ]
  },
  {
   "cell_type": "code",
   "execution_count": null,
   "id": "f74472ba",
   "metadata": {},
   "outputs": [],
   "source": [
    "def myfunction(a):\n",
    "    if a > 10:\n",
    "        return a * 2\n",
    "    else:\n",
    "        return a"
   ]
  },
  {
   "cell_type": "code",
   "execution_count": null,
   "id": "f8aaf427",
   "metadata": {},
   "outputs": [],
   "source": [
    "x = 5\n",
    "print(myfunction(x))"
   ]
  },
  {
   "cell_type": "markdown",
   "id": "7a3761b1",
   "metadata": {},
   "source": [
    "### 0.3.4 Imports\n",
    "The `import` keyword allows you to bring external code into your current Python session. This could be:\n",
    "- Code you have written in a `.py` file, which allows you to re-use functions between similar notebooks or sessions\n",
    "- Code that someone else has published, and that you have installed in your environment."
   ]
  },
  {
   "cell_type": "markdown",
   "id": "9369bb3a",
   "metadata": {},
   "source": [
    "#### 0.3.4.1 Importing your own code\n",
    "Note that the file `utilities_l0.py` is located in the same directory as this notebook, which is one place Python looks when importing. You can open it up to find the definition of `demo_fun`. To use an import function you use `.` notation after the imported module name."
   ]
  },
  {
   "cell_type": "code",
   "execution_count": null,
   "id": "31aaf14e",
   "metadata": {},
   "outputs": [],
   "source": [
    "import utilities_l0"
   ]
  },
  {
   "cell_type": "code",
   "execution_count": null,
   "id": "df90655a",
   "metadata": {},
   "outputs": [],
   "source": [
    "utilities_l0.demo_fun(22)"
   ]
  },
  {
   "cell_type": "markdown",
   "id": "7c165aed",
   "metadata": {},
   "source": [
    "#### 0.3.4.2 Importing Other Code\n",
    "There are an awithinlmost infinite number of Python libraries available that do any number of things. Once you find a library you want to use, configuring/installing it for use in your environment will vary on how you are set up.\n",
    "\n",
    "`numpy` is a popular numerical library that is installed if you are using this notebook in binder."
   ]
  },
  {
   "cell_type": "code",
   "execution_count": null,
   "id": "a2e6ab47",
   "metadata": {},
   "outputs": [],
   "source": [
    "import numpy as np\n",
    "\n",
    "a = np.array([1, 2, 3, 4])\n",
    "print(np.linalg.norm(a))"
   ]
  },
  {
   "cell_type": "markdown",
   "id": "f30bd5a1",
   "metadata": {},
   "source": [
    "## 0.4: Throw a Ball\n",
    "Now let's do something more exciting...\n",
    "\n",
    "The `utilities_l0.py` file contains several functions (accessible with `utilities_l0.function_name`) that simulates and visualizes the trajectory of a horizontally thrown ball. We can use this simulation to start developing some orbital intuition."
   ]
  },
  {
   "cell_type": "code",
   "execution_count": null,
   "id": "93dd7a9d",
   "metadata": {},
   "outputs": [],
   "source": [
    "# define some variables (play around with these)\n",
    "h = 100  # altitude in meters\n",
    "v = 50    # speed in meters/second\n",
    "\n",
    "# try h = 400000, v = 2000\n",
    "\n",
    "# calculate the trajectory with an imported function\n",
    "x, y = utilities_l0.throw_ball(h, v)\n",
    "\n",
    "# plot the trajectory with an imported function\n",
    "ax = utilities_l0.draw_earth()\n",
    "ax = utilities_l0.add_trajectory(x, y, ax)"
   ]
  },
  {
   "cell_type": "markdown",
   "id": "ba384a9d",
   "metadata": {},
   "source": [
    "### 0.4.1 Throw Many Balls\n",
    "It's helpful to visualize many trajectories together. We can do that by putting our code in a `for` loop (let's also put it in a function for good measure)."
   ]
  },
  {
   "cell_type": "code",
   "execution_count": null,
   "id": "cf8b6402",
   "metadata": {},
   "outputs": [],
   "source": [
    "def throw_many_balls(h, v_list):\n",
    "    # draw the earth that all the trajectories will be added to\n",
    "    ax = utilities_l0.draw_earth()\n",
    "    \n",
    "    # execute code for each velocity in v_list input\n",
    "    for v in v_list:\n",
    "        x, y = utilities_l0.throw_ball(h, v)\n",
    "        ax = utilities_l0.add_trajectory(x, y, ax)\n",
    "        \n",
    "    return ax"
   ]
  },
  {
   "cell_type": "code",
   "execution_count": null,
   "id": "9b87cd7c",
   "metadata": {},
   "outputs": [],
   "source": [
    "h = 400000  # altitude in meters\n",
    "v_list = [1000, 2000, 3000, 4000, 5000, 6000]    # speed in meters/second\n",
    "\n",
    "# try adding 7000 then 8000 to the list\n",
    "\n",
    "ax = throw_many_balls(h, v_list)"
   ]
  }
 ],
 "metadata": {
  "kernelspec": {
   "display_name": "Python 3",
   "language": "python",
   "name": "python3"
  },
  "language_info": {
   "codemirror_mode": {
    "name": "ipython",
    "version": 3
   },
   "file_extension": ".py",
   "mimetype": "text/x-python",
   "name": "python",
   "nbconvert_exporter": "python",
   "pygments_lexer": "ipython3",
   "version": "3.6.8"
  }
 },
 "nbformat": 4,
 "nbformat_minor": 5
}
