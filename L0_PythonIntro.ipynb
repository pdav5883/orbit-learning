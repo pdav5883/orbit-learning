{
 "cells": [
  {
   "cell_type": "markdown",
   "id": "8e2e438d",
   "metadata": {},
   "source": [
    "# Lesson 0: Python Crash Course\n",
    "Welcome! If you're brand new to Python and/or Jupyter Notebooks, this notebook should help you get started."
   ]
  },
  {
   "cell_type": "markdown",
   "id": "69d16241",
   "metadata": {},
   "source": [
    "## 0.1 Navigating this File\n",
    "Before we start talking about Python let's talk about where you are right now. This file is a _Jupyter Notebook_, it is a convenient way to interact with Python code in an easy-to-use environment.\n",
    "\n",
    "__Double click__ this _cell_, and you will be able to edit the cell's text.\n",
    "\n",
    "Add your name, or your favorite word, or anything here:____________"
   ]
  },
  {
   "cell_type": "markdown",
   "id": "ae91f078",
   "metadata": {},
   "source": [
    "To exit editing mode make sure you have clicked anywhere in the cell and either:\n",
    "\n",
    "1. In the top menu click `Run -> Run Selected Cells` (or `Cell -> Run Cells` depending on where you're running this file)\n",
    "2. Click the Run/Play button (sideways triangle) in the banner.\n",
    "3. Press `Ctrl + Enter`"
   ]
  },
  {
   "cell_type": "markdown",
   "id": "4f6258ac",
   "metadata": {},
   "source": [
    "### 0.1.1 Formatting\n",
    "\n",
    "Text cells like this are called _Markdown_ cells. You can do lots of different text formating:\n",
    " - Bulleted\n",
    " - Lists\n",
    " 1. Numbered\n",
    " 2. Lists\n",
    " _Italic text_\n",
    " __Bold text__\n",
    " ## Headings\n",
    " ### of different\n",
    " #### levels\n",
    " \n",
    " Images: ![](images/earth.jpg)\n",
    " \n",
    " Equations: $$ e^{i\\pi} = -1 $$\n",
    " \n",
    " And much more that you can find [here](https://www.markdownguide.org/cheat-sheet/)."
   ]
  },
  {
   "cell_type": "markdown",
   "id": "25ba3a0c",
   "metadata": {},
   "source": [
    "### 0.1.2 New Cells\n",
    "\n",
    "You can insert new cells from the banner with the \"plus\" button (or `Cell -> Insert Cell Below` depending on where you are running the notebook.\n",
    "\n",
    "When a new cell is created, the type of the cell is \"Code\" by default. Change this to \"Markdown\" using the dropdown on the right side of the banner to enter mark-up text like this."
   ]
  },
  {
   "cell_type": "markdown",
   "id": "79dc25dd",
   "metadata": {},
   "source": [
    "## 0.2 First Steps with Python\n",
    "Markdown cells like this allow you to write formatted text for explanation and storytelling, but the real point of the notebook is to be able to run Python code, which you do in a _Code_ cell, like the one below. Click into the cell and run it."
   ]
  },
  {
   "cell_type": "code",
   "execution_count": null,
   "id": "71624efa",
   "metadata": {},
   "outputs": [],
   "source": [
    "# this line is a comment, it doesn't get run\n",
    "message = \"Hello. My name is: Inigo Montoya.\"\n",
    "print(message)"
   ]
  },
  {
   "cell_type": "markdown",
   "id": "07e1611e",
   "metadata": {},
   "source": [
    "### 0.2.1 Variables\n",
    "The first line above created a _variable_, `message`, assigned that variable a value (the text you put in quotes), and then printed the variable.\n",
    "\n",
    "Variables names can be any sequence of characters, with some rules you'll figure out as you go.\n",
    "\n",
    "The _type_ of the variable `message` above was `str` (i.e. string, i.e. text). You can also have integers, floating point numbers, booleans, lists, and many other types. Unlike some other languages, you do not need to specify the type of a variable, and can switch types when you need.\n",
    "\n",
    "Mess around with some of the lines below and run."
   ]
  },
  {
   "cell_type": "code",
   "execution_count": null,
   "id": "f911cb83",
   "metadata": {},
   "outputs": [],
   "source": [
    "a = \"hello\"\n",
    "b = 33\n",
    "c = False\n",
    "d = [1, 2, 3]\n",
    "\n",
    "print(a, b, c, d)\n",
    "\n",
    "a = \"goodbye\"\n",
    "b = 10\n",
    "c = True\n",
    "d = \"goodbye again\"\n",
    "\n",
    "print(a, b, c, d)"
   ]
  },
  {
   "cell_type": "markdown",
   "id": "1e64af6b",
   "metadata": {},
   "source": [
    "### 0.2.2 Basic Operations\n",
    "Variables can interact with one another depending on type. The basic operations are built-in and assigned to special characters."
   ]
  },
  {
   "cell_type": "code",
   "execution_count": null,
   "id": "81657418",
   "metadata": {},
   "outputs": [],
   "source": [
    "x = 10\n",
    "y = 20\n",
    "z = x + y\n",
    "print(z)"
   ]
  },
  {
   "cell_type": "code",
   "execution_count": null,
   "id": "de6858ee",
   "metadata": {},
   "outputs": [],
   "source": [
    "a = \"hello\"\n",
    "b = \"goodbye\"\n",
    "c = a + b\n",
    "print(c)"
   ]
  },
  {
   "cell_type": "code",
   "execution_count": null,
   "id": "121597d1",
   "metadata": {},
   "outputs": [],
   "source": [
    "e = True\n",
    "f = False\n",
    "g = e and f\n",
    "h = e or f\n",
    "print(g, h)"
   ]
  },
  {
   "cell_type": "markdown",
   "id": "bc268aa3",
   "metadata": {},
   "source": [
    "### 0.2.3 Scope\n",
    "When you run some code in a cell, any variables created/changed in that cell become part of the notebook-wide memory space, so will be available in other cells. The order of cells doesn't matter, but the order that they are executed does matter. "
   ]
  },
  {
   "cell_type": "code",
   "execution_count": null,
   "id": "33252d0d",
   "metadata": {},
   "outputs": [],
   "source": [
    "newvariable = 25"
   ]
  },
  {
   "cell_type": "code",
   "execution_count": null,
   "id": "7c5800f4",
   "metadata": {},
   "outputs": [],
   "source": [
    "b = newvariable + 10\n",
    "print(b)"
   ]
  },
  {
   "cell_type": "markdown",
   "id": "76a181e7",
   "metadata": {},
   "source": [
    "### 0.2.4 Errors\n",
    "Sometimes something will go wrong with the code you are executing. It's ok, __DON'T PANIC__! You can just edit the code that was causing the error and re-run the cell. There are many types of errors. Sometimes the error message will make it obvious how to fix your problem, sometimes not.\n",
    "\n",
    "Below are a few simple errors you might run into."
   ]
  },
  {
   "cell_type": "code",
   "execution_count": null,
   "id": "937d3b25",
   "metadata": {},
   "outputs": [],
   "source": [
    "a ="
   ]
  },
  {
   "cell_type": "code",
   "execution_count": null,
   "id": "d8ce6f62",
   "metadata": {},
   "outputs": [],
   "source": [
    "b = 33\n",
    "c = \"hello\"\n",
    "d = b / c"
   ]
  },
  {
   "cell_type": "code",
   "execution_count": null,
   "id": "edaab2a9",
   "metadata": {},
   "outputs": [],
   "source": [
    "d = \"this is a message\n",
    "e = \"this is a second message\"\n",
    "print(d, e)"
   ]
  },
  {
   "cell_type": "markdown",
   "id": "b6a71709",
   "metadata": {},
   "source": [
    "It's not important to understand all of the syntax and concepts of Python before you can start doing something with the language. It's better to dive in and explore the problem you are trying to solve with the basic tools you have, and then look up (i.e. google search) things you're having trouble with or places you expect there to be a better solution."
   ]
  },
  {
   "cell_type": "markdown",
   "id": "73240c25",
   "metadata": {},
   "source": [
    "## 0.3 Second Steps with Python\n",
    "Here are a few more fundamental concepts we need in order to start exploring the orbit-specific problems contained in the next few notebooks."
   ]
  },
  {
   "cell_type": "markdown",
   "id": "7e420d4b",
   "metadata": {},
   "source": [
    "### 0.3.1 Lists\n",
    "There are many data structures built in to Python, and many many more implemented in add-on libraries. One we will use a lot is the `list` which is similar to an array in other languages.\n",
    "\n",
    "__Note: the first element in a list has index zero.__"
   ]
  },
  {
   "cell_type": "code",
   "execution_count": null,
   "id": "e7b63da6",
   "metadata": {},
   "outputs": [],
   "source": [
    "mylist = [1, 2, 3, 7]\n",
    "print(mylist)\n",
    "\n",
    "print(mylist[0])\n",
    "\n",
    "mylist[1] = 100\n",
    "print(mylist)\n",
    "\n",
    "otherlist = []\n",
    "print(otherlist)\n",
    "\n",
    "otherlist.append(500)\n",
    "otherlist.append(501)\n",
    "print(otherlist)"
   ]
  },
  {
   "cell_type": "markdown",
   "id": "2fa5e326",
   "metadata": {},
   "source": [
    "### 0.3.2 Loops\n",
    "Loops are part of (almost?) every programming language -- they allow you to do the same thing over and over without having to write the same code over and over.\n",
    "\n",
    "The main loops we will use is the `for` loop. In Python, a `for` loop executes a piece of code for each element in a list (or a list-like object), which is a bit different from other languages.\n",
    "\n",
    "__Note: the code that is executed within a Python loop is denoted by indentation.__"
   ]
  },
  {
   "cell_type": "code",
   "execution_count": null,
   "id": "f7f129ab",
   "metadata": {},
   "outputs": [],
   "source": [
    "mylist = [3, 4, 22, 0, 9]\n",
    "\n",
    "for x in mylist: # for each element \"x\" in mylist....\n",
    "    y = x * x # ...do this\n",
    "    print(y)"
   ]
  },
  {
   "cell_type": "code",
   "execution_count": null,
   "id": "58520761",
   "metadata": {},
   "outputs": [],
   "source": [
    "myotherlist = []\n",
    "\n",
    "for y in mylist: # for each element \"y\" in mylist...\n",
    "    myotherlist.append(y / 2) # ...do this\n",
    "\n",
    "print(myotherlist)"
   ]
  },
  {
   "cell_type": "markdown",
   "id": "d7d22b0a",
   "metadata": {},
   "source": [
    "### 0.3.3 If/Else\n",
    "Another common programming construct is the _If/Else_ block, which only executes its code _if_ the segment condition is True. Like for loops, indentation matters."
   ]
  },
  {
   "cell_type": "code",
   "execution_count": null,
   "id": "e91967b2",
   "metadata": {},
   "outputs": [],
   "source": [
    "value = 30\n",
    "\n",
    "if value > 10:\n",
    "    print(\"Big number\")\n",
    "else:\n",
    "    print(\"Small number\")"
   ]
  },
  {
   "cell_type": "code",
   "execution_count": null,
   "id": "374763a1",
   "metadata": {},
   "outputs": [],
   "source": [
    "value = 5\n",
    "word = \"ok\"\n",
    "\n",
    "if value == 3 and word == \"ok\":\n",
    "    print(\"Result 1\")\n",
    "elif value > 10 or word == \"ok\":\n",
    "    print(\"Result 2\")\n",
    "else:\n",
    "    print(\"Result 3\")"
   ]
  },
  {
   "cell_type": "markdown",
   "id": "75ceca3d",
   "metadata": {},
   "source": [
    "### 0.3.4 Functions\n",
    "Functions, called methods or routines in some other languages, are blocks of code that take inputs, run some code on those inputs, and return (produce) outputs. They can be executed repeatedly elsewhere in code.\n",
    "\n",
    "Code within a function is also denoted by its indentation level."
   ]
  },
  {
   "cell_type": "code",
   "execution_count": null,
   "id": "f74472ba",
   "metadata": {},
   "outputs": [],
   "source": [
    "def myfunction(a):\n",
    "    if a > 10:\n",
    "        return a * 2\n",
    "    else:\n",
    "        return a"
   ]
  },
  {
   "cell_type": "code",
   "execution_count": null,
   "id": "6127ec95",
   "metadata": {},
   "outputs": [],
   "source": [
    "print(myfunction(11))"
   ]
  },
  {
   "cell_type": "code",
   "execution_count": null,
   "id": "f8aaf427",
   "metadata": {},
   "outputs": [],
   "source": [
    "a = 5\n",
    "print(myfunction(a))"
   ]
  },
  {
   "cell_type": "markdown",
   "id": "7a3761b1",
   "metadata": {},
   "source": [
    "### 0.3.5 Imports\n",
    "The `import` keyword allows you to bring external code into your current Python session. This could be:\n",
    "- Code you have written in a `.py` file, which allows you to re-use functions between similar notebooks or sessions\n",
    "- Code that someone else has published, and that you have installed in your environment."
   ]
  },
  {
   "cell_type": "markdown",
   "id": "9369bb3a",
   "metadata": {},
   "source": [
    "#### 0.3.5.1 Importing your own code\n",
    "Note that the file `utilities_l0.py` is located in the same directory as this notebook, which is one place Python looks when importing. You can open it up to find the definition of `demo_fun`."
   ]
  },
  {
   "cell_type": "code",
   "execution_count": null,
   "id": "9774b8e6",
   "metadata": {},
   "outputs": [],
   "source": [
    "import utilities_l0\n",
    "\n",
    "utilities_l0.demo_fun(11)"
   ]
  },
  {
   "cell_type": "markdown",
   "id": "bb3d339b",
   "metadata": {},
   "source": [
    "To use an import function you use `.` notation after the imported module name. You can use the `as` keyword in the import statement to simplify."
   ]
  },
  {
   "cell_type": "code",
   "execution_count": null,
   "id": "df90655a",
   "metadata": {},
   "outputs": [],
   "source": [
    "import utilities_l0 as utils\n",
    "\n",
    "utils.demo_fun(22)"
   ]
  },
  {
   "cell_type": "markdown",
   "id": "7c165aed",
   "metadata": {},
   "source": [
    "#### 0.3.5.2 Importing Other Code\n",
    "There are an awithinlmost infinite number of Python libraries available that do any number of things. Once you find a library you want to use, configuring/installing it for use in your environment will vary on how you are set up.\n",
    "\n",
    "`numpy` is a popular numerical library that is installed if you are using this notebook in binder."
   ]
  },
  {
   "cell_type": "code",
   "execution_count": null,
   "id": "a2e6ab47",
   "metadata": {},
   "outputs": [],
   "source": [
    "import numpy as np\n",
    "\n",
    "a = np.array([1, 2, 3, 4])\n",
    "print(np.linalg.norm(a))"
   ]
  },
  {
   "cell_type": "markdown",
   "id": "d1796756",
   "metadata": {},
   "source": [
    "To see what libraries/modules are configured for import, you can use the following command from within a notebook."
   ]
  },
  {
   "cell_type": "code",
   "execution_count": null,
   "id": "adf4780b",
   "metadata": {
    "scrolled": false
   },
   "outputs": [],
   "source": [
    "help(\"modules\")"
   ]
  },
  {
   "cell_type": "markdown",
   "id": "f30bd5a1",
   "metadata": {},
   "source": [
    "## 0.4: Throw a Ball\n",
    "Now let's do something more exciting...\n",
    "\n",
    "The `utilities_l0.py` contains several functions (accessible with `utils.function_name`) that simulates and visualizes the trajectory of a horizontally thrown ball. We can use this simulation to start developing some orbital intuition."
   ]
  },
  {
   "cell_type": "code",
   "execution_count": null,
   "id": "93dd7a9d",
   "metadata": {},
   "outputs": [],
   "source": [
    "# define some variables (play around with these)\n",
    "h = 2  # altitude in meters\n",
    "v = 50    # speed in meters/second\n",
    "\n",
    "# calculate the trajectory with an imported function\n",
    "x, y = utils.throw_ball(h, v)\n",
    "\n",
    "# plot the trajectory with an imported function\n",
    "ax = utils.draw_earth()\n",
    "ax = utils.add_trajectory(x, y, ax)"
   ]
  },
  {
   "cell_type": "markdown",
   "id": "ba384a9d",
   "metadata": {},
   "source": [
    "### 0.4.1 Throw Many Balls\n",
    "It's helpful to visualize many trajectories together. We can do that by putting our code in a `for` loop (let's also put it in a function for good measure."
   ]
  },
  {
   "cell_type": "code",
   "execution_count": null,
   "id": "cf8b6402",
   "metadata": {},
   "outputs": [],
   "source": [
    "def throw_many_balls(h, v_list):\n",
    "    # draw the earth that all the trajectories will be added to\n",
    "    ax = utils.draw_earth()\n",
    "    \n",
    "    # execute code for each velocity in v_list input\n",
    "    for v in v_list:\n",
    "        x, y = utils.throw_ball(h, v)\n",
    "        ax = utils.add_trajectory(x, y, ax)\n",
    "        \n",
    "    return ax"
   ]
  },
  {
   "cell_type": "code",
   "execution_count": null,
   "id": "9b87cd7c",
   "metadata": {},
   "outputs": [],
   "source": [
    "h = 400000  # altitude in meters\n",
    "v_list = [1000, 2000, 3000, 4000, 5000, 6000]    # speed in meters/second\n",
    "\n",
    "ax = throw_many_balls(h, v_list)"
   ]
  }
 ],
 "metadata": {
  "kernelspec": {
   "display_name": "Python 3",
   "language": "python",
   "name": "python3"
  },
  "language_info": {
   "codemirror_mode": {
    "name": "ipython",
    "version": 3
   },
   "file_extension": ".py",
   "mimetype": "text/x-python",
   "name": "python",
   "nbconvert_exporter": "python",
   "pygments_lexer": "ipython3",
   "version": "3.6.8"
  }
 },
 "nbformat": 4,
 "nbformat_minor": 5
}
