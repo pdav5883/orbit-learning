{
 "cells": [
  {
   "cell_type": "markdown",
   "metadata": {},
   "source": [
    "# Lesson 2: Orbits and Time\n",
    "In Lesson 1 we visualized the shape of an orbit using the polar orbit equation:\n",
    "\n",
    "$$\n",
    "r = \\frac{a(1-e^2)}{1 + e\\cos{\\theta}}\n",
    "$$\n",
    "\n",
    "Where `a, e, theta` are the semi-major axis (orbit size), eccentricity (orbit shape), and true anomaly (where in the orbit we are).\n",
    "\n",
    "We even included three other orbital elements `i, raan, argp` that orient the orbit plane in space to draw out the ground track on a map.\n",
    "\n",
    "However we neglected one critical element that made our ground track wrong: __time__. Time does not appear anywhere in our function in Lesson 1, but it's really important.\n",
    "\n",
    "In this lesson we're going to dive into how we get time into our orbit trajectory so that we can finally make an accurate ground track, among other things.\n",
    "\n",
    "First, get all of our imports and constants out of the way for later use:"
   ]
  },
  {
   "cell_type": "code",
   "execution_count": null,
   "metadata": {},
   "outputs": [],
   "source": [
    "import utilities_l2 as utils\n",
    "\n",
    "import math\n",
    "import matplotlib.pyplot as plt\n",
    "\n",
    "RADIUS_EARTH = 6371008.0\n",
    "MU_EARTH = 398600441500000.0\n",
    "EARTH_ROTATION_RATE = -7.292123e-5\n",
    "RADIAN_TO_DEGREE = 57.2957795131\n",
    "DEGREE_TO_RADIAN = 0.01745329251"
   ]
  },
  {
   "cell_type": "markdown",
   "metadata": {},
   "source": [
    "## 2.1 Eccentric and Mean Anomalies\n",
    "Before we start talking about time, we need to introduce two more quantities:\n",
    "- `E` the eccentric anomaly\n",
    "- `M` the mean anomaly\n",
    "\n",
    "These quantities are measured in radians just like true anomaly (`theta`). `E` has a geometric definition as an angle, but it doesn't really matter for our understanding.\n",
    "\n",
    "`M` on the other hand is not strictly an angle, rather it's the fraction of an orbit's _period_ that has elapsed. `M` is how we're going to get to time, since we know the period (time for a full orbit) from the semi-major axis (`a`)."
   ]
  },
  {
   "cell_type": "markdown",
   "metadata": {},
   "source": [
    "The relationships between the three anomalies and time are fairly straightforward equations:\n",
    "\n",
    "$$\n",
    "E = 2\\tan^{-1}\\Big(\\sqrt{\\frac{1-e}{1+e}}\\tan{\\frac{\\theta}{2}}\\Big)\n",
    "$$\n",
    "\n",
    "$$\n",
    "M = E - e\\sin{E}\n",
    "$$\n",
    "\n",
    "$$\n",
    "t = M\\sqrt{\\frac{a^3}{\\mu}}\n",
    "$$\n",
    "\n",
    "That's a lot, so let's review all of the different quantities in these three equations:\n",
    "- `t`: time, technically the time past perigee, but can be shifted easily\n",
    "- `theta`: true anomaly, angle between perigee and current location in orbit\n",
    "- `E`: eccentric anomaly, an irrelevant angle (for our purposes)\n",
    "- `M`: mean anomaly, the fraction of an orbit period elapsed, expressed as an angle\n",
    "- `e`: eccentricy, an orbital element\n",
    "- `a`: semimajor axis, an orbital element\n",
    "- `mu`: earth gravitational parameter (a constant)"
   ]
  },
  {
   "cell_type": "markdown",
   "metadata": {},
   "source": [
    "### 2.1.1 Anomaly Conversion Functions\n",
    "\n",
    "We're going to define three functions that implement the three equations above to convert from true anomaly (`theta`) to time (`t`) in steps. We'll then add a fourth function to stitch the steps together. Our three steps will be:\n",
    "\n",
    "$$\n",
    "\\theta \\rightarrow E \\rightarrow M \\rightarrow t\n",
    "$$\n",
    "\n",
    "If you want, replace each of the lines with `utils...` with your own implementation (reccomend against this for `true_anom_to_eccentric_anom` due to `atan` annoyances)."
   ]
  },
  {
   "cell_type": "code",
   "execution_count": null,
   "metadata": {},
   "outputs": [],
   "source": [
    "def true_anom_to_eccentric_anom(theta, e):\n",
    "    E = utils.true_anom_to_eccentric_anom(theta, e)\n",
    "    return E\n",
    "\n",
    "\n",
    "def eccentric_anom_to_mean_anom(E, e):\n",
    "    M = utils.eccentric_anom_to_mean_anom(E, e)\n",
    "    return M\n",
    "\n",
    "\n",
    "def mean_anom_to_time(M, a):\n",
    "    t = utils.mean_anom_to_time(M, a)\n",
    "    return t\n",
    "\n",
    "\n",
    "def true_anom_to_time(theta, a, e):\n",
    "    t = utils.true_anom_to_time(theta, a, e)\n",
    "    return t"
   ]
  },
  {
   "cell_type": "markdown",
   "metadata": {},
   "source": [
    "### 2.1.2 Plotting Anomolies\n",
    "Let's plot true and mean anomaly against time (eccentric anomaly isn't critical to the discussion, it's more the middleman that gets us where we want to go).\n",
    "\n",
    "How does changing `a` change the plot? Changing `e`?\n",
    "\n",
    "Set `e` to a high value like `0.8`. Why is the slope of the `theta` lines so high at the beginning and end?"
   ]
  },
  {
   "cell_type": "code",
   "execution_count": null,
   "metadata": {},
   "outputs": [],
   "source": [
    "e = 0.2\n",
    "a = 50000000\n",
    "\n",
    "theta_list = []\n",
    "E_list = []\n",
    "M_list = []\n",
    "t_list = []\n",
    "\n",
    "N = 101 # number points to plot\n",
    "\n",
    "for i in range(N):\n",
    "    theta = i * 2 * math.pi / N\n",
    "    E = true_anom_to_eccentric_anom(theta, e)\n",
    "    M = eccentric_anom_to_mean_anom(E, e)\n",
    "    t = mean_anom_to_time(M, a)\n",
    "    \n",
    "    theta_list.append(theta)\n",
    "    E_list.append(E)\n",
    "    M_list.append(M)\n",
    "    t_list.append(t)\n",
    "    \n",
    "fig = plt.figure(figsize=(8,6))\n",
    "ax = fig.add_subplot(111)\n",
    "\n",
    "ax.plot(t_list, theta_list, label=\"theta\")\n",
    "ax.plot(t_list, M_list, label=\"M\")\n",
    "\n",
    "ax.set_xlabel(\"Time (s)\")\n",
    "ax.set_ylabel(\"Anomaly (rad)\")\n",
    "ax.legend()\n",
    "plt.show()"
   ]
  },
  {
   "cell_type": "markdown",
   "metadata": {},
   "source": [
    "## 2.2 Ground Track - Second Attempt\n",
    "Amazingly, we have now enough done enough work to correct our orbit ground track from Lesson 1. This is a five step process:\n",
    "\n",
    "1. Calculate the trajectory in inertial space just like we did in Lesson 1 and convert that trajectory to latitude/longitude coordinates. Nothing new here.\n",
    "2. Calculate the elapsed time at each point in our trajectory using the conversion functions above.\n",
    "3. Calculate how much the earth has rotated since `t=0`. The earth rotates at constant rate, so this isn't hard.\n",
    "4. Shift the trajectory longitude value at each step by however much the earth has rotated at that time.\n",
    "5. Plot the latitude and shifted longitude on top of a 2D map.\n",
    "\n",
    "Note: that Step 4 is kind of a hack, so you should not try rotations like this at home."
   ]
  },
  {
   "cell_type": "code",
   "execution_count": null,
   "metadata": {},
   "outputs": [],
   "source": [
    "# variables you can change\n",
    "a = 10000000\n",
    "e = 0.3\n",
    "i = 40 * DEGREE_TO_RADIAN\n",
    "raan = 45 * DEGREE_TO_RADIAN\n",
    "argp = 0 * DEGREE_TO_RADIAN\n",
    "N = 101 # number of theta values to plot\n",
    "\n",
    "# these are empty lists that we will append data to in the loop below\n",
    "lat_list = []\n",
    "lon_list_original = []\n",
    "lon_list_corrected = []\n",
    "\n",
    "# the for loop steps through each value of theta\n",
    "for j in range(N):\n",
    "    theta = j * 2 * math.pi / N\n",
    "    \n",
    "    # step 1 - calculate x,y,z in inertial then lat/lon\n",
    "    x, y, z, vx, vy, vz = utils.convert_kepler_to_cartesian(a, e, i, raan, argp, theta)\n",
    "    lat, lon, alt = utils.convert_cartesian_to_lla(x, y, z)\n",
    "    \n",
    "    # step 2 - calculate elapsed time since start\n",
    "    t = true_anom_to_time(theta, a, e)\n",
    "    \n",
    "    # step 3 - calculate earth rotation angle\n",
    "    earth_rotation = t * EARTH_ROTATION_RATE\n",
    "    \n",
    "    # step 4 - modify longitude by earth rotation angle\n",
    "    lon_corrected = lon + earth_rotation\n",
    "    \n",
    "    # make sure corrected longitude falls in -pi,pi interval (i.e. -180, 180 deg)\n",
    "    lon_corrected = (lon_corrected + math.pi) % (2 * math.pi) - math.pi\n",
    "    \n",
    "    lat_list.append(lat)\n",
    "    lon_list_original.append(lon)\n",
    "    lon_list_corrected.append(lon_corrected)\n",
    "    \n",
    "# step 5 - plot\n",
    "ax = utils.add_latlon_trajectory(lat_list, lon_list_original, color=\"r--\")\n",
    "ax = utils.add_latlon_trajectory(lat_list, lon_list_corrected, ax=ax, color=\"c\")"
   ]
  },
  {
   "cell_type": "markdown",
   "metadata": {},
   "source": [
    "## 2.3 Keplers Equation\n",
    "The work above allows us to go from true anomaly `theta` to time `t` via the sequence $ \\theta \\rightarrow E \\rightarrow M \\rightarrow t $. This allows us to the answer the question:\n",
    "- Given the satellite is at location `x`, what is the time `t`?\n",
    "\n",
    "But what if we want to answer the inverse question:\n",
    "- Given the time is `t`, what is the satellite location `x`?\n",
    "\n",
    "The difference between these questions is subtle, but very important. As an example, the (presumably) important question _\"where is my satellite right now?\"_ is a restatement of the second question, but not the first."
   ]
  },
  {
   "cell_type": "markdown",
   "metadata": {},
   "source": [
    "Let's see if we can invert the three equations above so that we can go the opposite direction from time to true anomaly: $ t \\rightarrow M \\rightarrow E \\rightarrow \\theta $\n",
    "\n",
    "Inverting the third equation is the easiest:\n",
    "\n",
    "$$\n",
    "M = t\\sqrt{\\frac{\\mu}{a^3}}\n",
    "$$\n",
    "\n",
    "Inverting the first equation is just algebra:\n",
    "\n",
    "$$\n",
    "\\theta = 2\\tan^{-1}\\Big(\\sqrt{\\frac{1+e}{1-e}}\\tan{\\frac{E}{2}}\\Big)\n",
    "$$\n",
    "\n",
    "But inverting the second equation is...impossible. If you can do it, then you will have solved a problem that has interested mathematicians (e.g. Kepler, Newton, Lagrange) since the 17th century, and has motivated some major advances in mathematics.\n",
    "\n",
    "The second equation is called _Kepler's Equation_ and has no closed form solution for `E`:\n",
    "\n",
    "$$\n",
    "M = E - e\\sin{E}\n",
    "$$\n",
    "\n",
    "However, all is not lost: there are several ways to solve for `E`, one of which we'll explore here.\n"
   ]
  },
  {
   "cell_type": "markdown",
   "metadata": {},
   "source": [
    "### 2.3.1 Visualizing Kepler's Equation\n",
    "First, let's rewrite Kepler's equation by moving `M` over to the right side of the equation and using function notation:\n",
    "\n",
    "$$\n",
    "f(M,e,E) = E - e\\sin{E} - M\n",
    "$$\n",
    "\n",
    "Let's see what $f(M,e,E)$ looks like for fixed `M,e` and variable `E`. Replace the `utils...` statements in the definitions below if you'd like:"
   ]
  },
  {
   "cell_type": "code",
   "execution_count": null,
   "metadata": {},
   "outputs": [],
   "source": [
    "def kepler_function(M, e, E):\n",
    "    f = utils.kepler_function(M, e, E)\n",
    "    return f"
   ]
  },
  {
   "cell_type": "code",
   "execution_count": null,
   "metadata": {},
   "outputs": [],
   "source": [
    "e = 0.3\n",
    "M = math.pi / 4\n",
    "\n",
    "f_list = []\n",
    "E_list = []\n",
    "\n",
    "for j in range(100):\n",
    "    E = j * 2 * math.pi / 100\n",
    "    f = kepler_function(M, e, E)\n",
    "    \n",
    "    E_list.append(E)\n",
    "    f_list.append(f)\n",
    "    \n",
    "fig = plt.figure()\n",
    "ax = fig.add_subplot(111)\n",
    "\n",
    "ax.plot(E_list, f_list)\n",
    "ax.plot([0, 2*math.pi], [0,0], \"k:\")\n",
    "ax.set_xlabel(\"E\")\n",
    "ax.set_ylabel(\"f\")\n",
    "plt.show()"
   ]
  },
  {
   "cell_type": "markdown",
   "metadata": {},
   "source": [
    "### 2.3.2 Newton's Method\n",
    "When we solve Kepler's equation we find the value of `E` given `M,e` where $ f = 0$. \n",
    "\n",
    "This is called finding the \"zero\" or \"root\" of a function, and there are many methods that can help us do this. One of the simplest (and most powerful) is called _Newton's Method_.\n",
    "\n",
    "[Newton's Method](https://en.wikipedia.org/wiki/Newton%27s_method) is an _iterative_ method, which means we do the same thing a bunch of times to approximate the solution until we are happy that we are close enough to the real thing.\n",
    "\n",
    "Here is Newton's Method in terms of the variables in the equation above:\n",
    "\n",
    "$$\n",
    "E_{i+1} = E_i - \\frac{f(E_i)}{f\\prime(E_i)}\n",
    "$$\n",
    "\n",
    "Two points of order: we removed `M,e` from the function inputs, since they are constants. Second, if it's been a while since (or you've never) taken calculus, then you may be frightened by that $f\\prime(E_i)$ in the denominator. It means the _first derivative_ of $f$.\n",
    "\n",
    "Here's an animation ([credit](https://commons.wikimedia.org/wiki/File:NewtonIteration_Ani.gif)) that shows how successive iterations of Newton's Method get us to the function zero:\n",
    "\n",
    "<img src=\"images/NewtonIteration_Ani.gif\" width=\"500\"/>\n",
    "\n",
    "Implementing Newton's Method ourselves to solve for `E` is not bad. We're going to define two functions: `kepler_function_prime` that returns $f\\prime$ and `newton_kepler_step` that takes us one iteration forward in Newton's method. As usual, replace the `utils...` lines with your own implementation if you'd like."
   ]
  },
  {
   "cell_type": "code",
   "execution_count": null,
   "metadata": {},
   "outputs": [],
   "source": [
    "def kepler_function_prime(M, e, E):\n",
    "    # replace with your own implementation if you'd like\n",
    "    # remember we're taking the derivative with respect to E\n",
    "    f_prime = utils.kepler_function_prime(M, e, E)\n",
    "    return f_prime\n",
    "\n",
    "def newton_kepler_step(M, e, E):\n",
    "    # replace with your own implementation if you'd like (recommend multiple lines)\n",
    "    E_next = utils.newton_kepler_step(M, e, E)\n",
    "    return E_next"
   ]
  },
  {
   "cell_type": "markdown",
   "metadata": {},
   "source": [
    "### 2.3.3 Solving Kepler's Equation\n",
    "At this point we have almost everything we need to solve for `E` by using `newton_kepler_step` to compute the next iteration. We are only missing two things:\n",
    "1. Where do we start for the first iteration of `E`, $E_0$?\n",
    "2. When do we stop iterating?\n",
    "\n",
    "Question #1 is very important for any application of Newton's Method, since initial guesses too far away from the root could either diverge or converge to the wrong root. For this application, we will use $E_0=\\pi$ for all cases, which converges for all cases except eccentrities close to 1.\n",
    "\n",
    "Question #2 depends on how accurate we want our solution to be. For our purposes, if we are within $1\\times10^{-6}$ of the root then we will call that good enough.\n",
    "\n",
    "The function `newton_kepler_solve` below returns the value of `E` that solves Kepler's Equation for a particular value of `M,e`."
   ]
  },
  {
   "cell_type": "code",
   "execution_count": null,
   "metadata": {},
   "outputs": [],
   "source": [
    "def newton_kepler_solve(M, e):\n",
    "    max_iter = 20\n",
    "    E = math.pi\n",
    "    tol = 1e-6\n",
    "    \n",
    "    i = 0\n",
    "    \n",
    "    while i < max_iter:\n",
    "        E = newton_kepler_step(M, e, E)\n",
    "        err = kepler_function(M, e, E)\n",
    "        \n",
    "        if abs(err) < tol:\n",
    "            return E\n",
    "        \n",
    "        i += 1\n",
    "        \n",
    "    print(\"Did not find solution for M={}, e={}\".format(M,e))\n",
    "    return None"
   ]
  },
  {
   "cell_type": "markdown",
   "metadata": {},
   "source": [
    "Now we can plot our solution for `E` on top of the full curve visualized to confirm that we have indeed found the root of `f`, which as a reminder is the value of `E` that solves the equation $ M = E - e\\sin{E} $"
   ]
  },
  {
   "cell_type": "code",
   "execution_count": null,
   "metadata": {},
   "outputs": [],
   "source": [
    "e = 0.3\n",
    "M = math.pi / 4\n",
    "\n",
    "E_soln = newton_kepler_solve(M, e)\n",
    "f_soln = kepler_function(M, e, E_soln)\n",
    "\n",
    "f_list = []\n",
    "E_list = []\n",
    "\n",
    "for j in range(100):\n",
    "    E = j * 2 * math.pi / 100\n",
    "    f = kepler_function(M, e, E)\n",
    "    \n",
    "    E_list.append(E)\n",
    "    f_list.append(f)\n",
    "    \n",
    "fig = plt.figure()\n",
    "ax = fig.add_subplot(111)\n",
    "\n",
    "ax.plot(E_list, f_list)\n",
    "ax.plot([0, 2*math.pi], [0,0], \"k:\")\n",
    "ax.plot(E_soln, f_soln, \"ro\")\n",
    "ax.set_xlabel(\"E\")\n",
    "ax.set_ylabel(\"f\")\n",
    "plt.show()"
   ]
  },
  {
   "cell_type": "markdown",
   "metadata": {},
   "source": [
    "## 2.4 Orbit Propagation in Time\n",
    "To review what we've done, we've determined how implement each of the steps in the sequence $ t \\rightarrow M \\rightarrow E \\rightarrow \\theta $, focusing on the most difficult step $ M \\rightarrow E $. In a moment, we'll use this sequence to feed in many values of time (e.g. one minute increments) to determine the evolution of the orbit trajectory at fixed time intervals."
   ]
  },
  {
   "cell_type": "markdown",
   "metadata": {},
   "source": [
    "### 2.4.1 Conversion Functions\n",
    "Let's define a function for each individual step in $ t \\rightarrow M \\rightarrow E \\rightarrow \\theta $, and then a fourth function to stitch them all together. As a reminder from above if you would like to write these functions yourself:\n",
    "\n",
    "$$\n",
    "M = t\\sqrt{\\frac{\\mu}{a^3}}\n",
    "$$\n",
    "\n",
    "$$\n",
    "\\theta = 2\\tan^{-1}\\Big(\\sqrt{\\frac{1+e}{1-e}}\\tan{\\frac{E}{2}}\\Big)\n",
    "$$"
   ]
  },
  {
   "cell_type": "code",
   "execution_count": null,
   "metadata": {},
   "outputs": [],
   "source": [
    "def time_to_mean_anom(t, a):\n",
    "    M = utils.time_to_mean_anom(t, a)\n",
    "    return M\n",
    "\n",
    "\n",
    "def mean_anom_to_eccentric_anom(M, e):\n",
    "    E = utils.mean_anom_to_eccentric_anom(M, e)\n",
    "    return E\n",
    "\n",
    "\n",
    "def eccentric_anom_to_true_anom(E, e):\n",
    "    theta = utils.eccentric_anom_to_true_anom(E, e)\n",
    "    return theta\n",
    "\n",
    "\n",
    "def time_to_true_anom(t, e, a):\n",
    "    theta = utils.time_to_true_anom(t, e, a)\n",
    "    return theta"
   ]
  },
  {
   "cell_type": "markdown",
   "metadata": {},
   "source": [
    "### 2.4.2 Ground Track with Time Steps\n",
    "Similar Section 2.2 we'll use our conversion functions to compute the orbit ground track, but for fixed increments in time rather than true anomaly, via latitude and longitude corrected for the Earth's rotation at each step. This time around we will put our trajectory calculation into a function so that we can be more flexible with our plotting."
   ]
  },
  {
   "cell_type": "code",
   "execution_count": null,
   "metadata": {},
   "outputs": [],
   "source": [
    "def groundtrack_latlon_time(a, e, i, raan, argp, tstep):\n",
    "    # return lists of latitude and longitude for given orbital elements and time step\n",
    "    lat_list = []\n",
    "    lon_list = []\n",
    "    \n",
    "    orbit_period = 2 * math.pi * math.sqrt(a ** 3 / MU_EARTH)\n",
    "    t = 0\n",
    "\n",
    "    # the for loop steps through each value of theta\n",
    "    while t < orbit_period:\n",
    "        # conversion to true anomaly\n",
    "        theta = time_to_true_anom(t, e, a)\n",
    "\n",
    "        # calculate x,y,z in inertial then lat/lon\n",
    "        x, y, z, vx, vy, vz = utils.convert_kepler_to_cartesian(a, e, i, raan, argp, theta)\n",
    "        lat, lon, alt = utils.convert_cartesian_to_lla(x, y, z)\n",
    "\n",
    "        # calculate earth rotation angle\n",
    "        earth_rotation = t * EARTH_ROTATION_RATE\n",
    "\n",
    "        # modify longitude by earth rotation angle\n",
    "        lon_corrected = lon + earth_rotation\n",
    "\n",
    "        # make sure corrected longitude falls in -pi,pi interval (i.e. -180, 180 deg)\n",
    "        lon_corrected = (lon_corrected + math.pi) % (2 * math.pi) - math.pi\n",
    "\n",
    "        lat_list.append(lat)\n",
    "        lon_list.append(lon_corrected)\n",
    "        \n",
    "        t = t + tstep\n",
    "        \n",
    "    return lat_list, lon_list"
   ]
  },
  {
   "cell_type": "markdown",
   "metadata": {},
   "source": [
    "The addition circular points overlaid on top of the ground track curve are equally spaced by the `tstep_points` seconds to show how the rate of the ground track trace changes throughout the orbit. Closely spaced points mean the satellite is moving slowly (i.e. near apogee), while longer gaps between points indicate the satellite is moving more quickly (i.e. near perigee)"
   ]
  },
  {
   "cell_type": "code",
   "execution_count": null,
   "metadata": {},
   "outputs": [],
   "source": [
    "# variables you can change\n",
    "a = 15000000\n",
    "e = 0.5\n",
    "i = 40 * DEGREE_TO_RADIAN\n",
    "raan = 180 * DEGREE_TO_RADIAN\n",
    "argp = 45 * DEGREE_TO_RADIAN\n",
    "tstep_curve = 60\n",
    "tstep_points = 900\n",
    "\n",
    "lat_list, lon_list = groundtrack_latlon_time(a, e, i, raan, argp, tstep_curve)\n",
    "lat_list_pts, lon_list_pts = groundtrack_latlon_time(a, e, i, raan, argp, tstep_points)\n",
    "\n",
    "ax = utils.add_latlon_trajectory(lat_list, lon_list, color=\"c\")\n",
    "ax = utils.add_latlon_trajectory(lat_list_pts, lon_list_pts, ax=ax, color=\"co\")"
   ]
  },
  {
   "cell_type": "markdown",
   "metadata": {},
   "source": [
    "## 2.5 Equations of Motion & Numerical Integration\n",
    "The method developed above to relate time to orbital position via Kepler's Equation is one method to propagate an orbit. However it is not the only method, and has some drawbacks.\n",
    "\n",
    "First, the conversion from Kepler elements to cartesian coordinates (within the function `utils.convert_kepler_to_cartesian`) is quite computationally expensive. If we wanted propagate to a condition that was specified in terms of a fixed location (i.e. propagate until the satellite is in view of a ground station), we would have to continuously do this conversion back and forth.\n",
    "\n",
    "Second, this formulation makes it impossible to include perturbing forces that are not included in the two-body point-mass physics underlying the assumption that Keplerian elements (except for true anomaly) are constants.\n",
    "\n",
    "Another way to propagate orbits is to integrate the _Equations of Motion_. The Equations of Motion in general are a set of differential equations that describe the dynamics of a system. For the case of orbits specifically, the Equations of Motion are derived from Newton's Law of Universal Gravitation and Newton's Second Law. Putting these together we get the second order differential equation:\n",
    "\n",
    "$$\n",
    "\\ddot{\\textbf{r}} = \\frac{\\mu_{earth}}{r^3}\\textbf{r}\n",
    "$$\n",
    "\n",
    "We could add perturbing forces that model interactions outside the point-mass two-body gravity by appending additional terms to the right side of the equation.\n",
    "\n",
    "Reminder that a \"double dot\" over a variable signifies the second derivative with respect to time, and a bold variable represents a vector. Writing the position vecot $\\textbf{r}$ as a column vector of the three cartesian coordinates:\n",
    "\n",
    "\n",
    "$$\n",
    "\\left[\\begin{array}{c} \n",
    "\\ddot{x} \\\\ \\ddot{y} \\\\ \\ddot{z}\n",
    "\\end{array}\\right] = \\frac{\\mu_{earth}}{(x^2+y^2+z^2)^{3/2}}\n",
    "\\left[\\begin{array}{c} \n",
    "x \\\\ y \\\\ z\n",
    "\\end{array}\\right]\n",
    "$$\n",
    "\n",
    "This second order differential equation can be re-written as a first order differential equation by defining the system state as the six-dimensional position and velocity, and then can be solved by specifying the value of the state at a specific time. There are many tools available (e.g. in the `scipy.integrate.solve_ivp` function) to numerically solve an _initial value problem_ such as this one, but that is beyond the scope of this notebook."
   ]
  }
 ],
 "metadata": {
  "kernelspec": {
   "display_name": "Python 3",
   "language": "python",
   "name": "python3"
  },
  "language_info": {
   "codemirror_mode": {
    "name": "ipython",
    "version": 3
   },
   "file_extension": ".py",
   "mimetype": "text/x-python",
   "name": "python",
   "nbconvert_exporter": "python",
   "pygments_lexer": "ipython3",
   "version": "3.7.1"
  }
 },
 "nbformat": 4,
 "nbformat_minor": 5
}
