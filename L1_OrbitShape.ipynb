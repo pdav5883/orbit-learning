{
 "cells": [
  {
   "cell_type": "markdown",
   "id": "c03ba44f",
   "metadata": {},
   "source": [
    "# Lesson 1: Orbit Shape\n",
    "In this notebook we'll work with the equations and parameters that describe the shape of an orbit in its plane. All code for the lesson is included in the file `utilities_l1.py`, with options in the notebook cells to write your own versions of the key functions.\n",
    "\n",
    "Reminder: double click into a cell to edit, and make sure you run each cell (Ctrl + Enter) as you move down the notebook so that the functions and variables are in memory. "
   ]
  },
  {
   "cell_type": "markdown",
   "id": "f2cd4a27",
   "metadata": {},
   "source": [
    "## 1.1 Preliminaries\n",
    "The first line imports code written in `utilities_l1.py` so that it can used in this notebook. To access the functions in that file use `utils.name_of_function`\n",
    "\n",
    "The second line imports Python's built-in math module, which contains functions like `math.cos()` and `math.sqrt()`.\n",
    "\n",
    "The third line imports a part of the matplotlib library used for plotting data.\n",
    "\n",
    "The final four lines define useful constants (also defined in `utilities_l1.py`)\n",
    "\n",
    "Note: unless otherwise stated, base units are meters, seconds, kilogram, radians"
   ]
  },
  {
   "cell_type": "code",
   "execution_count": null,
   "id": "68d50bb0",
   "metadata": {},
   "outputs": [],
   "source": [
    "import utilities_l1 as utils\n",
    "import math\n",
    "import matplotlib.pyplot as plt\n",
    "\n",
    "RADIUS_EARTH = 6371008.0\n",
    "MU_EARTH = 398600441500000.0\n",
    "RADIAN_TO_DEGREE = 57.2957795131\n",
    "DEGREE_TO_RADIAN = 0.01745329251"
   ]
  },
  {
   "cell_type": "markdown",
   "id": "8283e69c",
   "metadata": {},
   "source": [
    "## 1.2 Polar Orbit Equation\n",
    "This equation describes the distance between the center of the Earth and the satellite (`r`) (note: not altitude!) as function of the angle that the satellite has progressed around its orbit (`theta`). The `theta = 0` occurs at the minimum value of `r` (perigee).\n",
    "\n",
    "If `theta` (radians) is the input to the equation, and `r` (meters) is the output, then there are two other constants in the equation that describe the orbit:\n",
    "- `a`: semi-major axis (meters), describes how big/small the orbit is\n",
    "- `e`: eccentricity (unitless), describes the shape of the orbit (note: for closed orbits discussed here `0 <= e < 1`)\n",
    "\n",
    "Here's the Polar Orbit Equation:\n",
    "\n",
    "$$\n",
    "r = \\frac{a(1-e^2)}{1 + e\\cos{\\theta}}\n",
    "$$\n",
    "\n",
    "The function `compute_orbit_radius` below returns the value of `r` for a given trio of `a`, `e`, and `theta`. Can you replace the `r = utils...` line with your own implementation of the polar orbit equation?"
   ]
  },
  {
   "cell_type": "code",
   "execution_count": null,
   "id": "c91deffd",
   "metadata": {},
   "outputs": [],
   "source": [
    "def compute_orbit_radius(a, e, theta):\n",
    "    # replace the line below with your own implementation (if you want) (can be multiple lines)\n",
    "    r = utils.compute_orbit_radius(a, e, theta)\n",
    "    \n",
    "    return r"
   ]
  },
  {
   "cell_type": "markdown",
   "id": "a42aa539",
   "metadata": {},
   "source": [
    "Play around with a few values of `a, e, theta` (meters and radians!) to see what happens to `r` (make sure you run the cell above!)"
   ]
  },
  {
   "cell_type": "code",
   "execution_count": null,
   "id": "d430ee7f",
   "metadata": {},
   "outputs": [],
   "source": [
    "r = compute_orbit_radius(10000000, 0.3, 0)\n",
    "print(r)"
   ]
  },
  {
   "cell_type": "markdown",
   "id": "48bfe882",
   "metadata": {},
   "source": [
    "## 1.3 Plot Polar Orbit Equation\n",
    "A single number isn't very interesting. More interesting: what does the relationship between `r` and `theta` look like across multiple values (for constant `a, e`)?\n",
    "\n",
    "We can use the function we defined above, `compute_orbit_radius` to compute many values of `r` from many different `theta`, and then store the results in a list for use below."
   ]
  },
  {
   "cell_type": "code",
   "execution_count": null,
   "id": "c84e9cb8",
   "metadata": {},
   "outputs": [],
   "source": [
    "# variables you can change\n",
    "a = 10000000\n",
    "e = 0.2\n",
    "\n",
    "# these are empty lists that we will append data to in the loop below\n",
    "theta_list = []\n",
    "r_list = []\n",
    "\n",
    "# the for loop steps through each value of i from 0 to 99\n",
    "for i in range(100):\n",
    "    theta = i * 0.0629 # value selected to go through two-pi in 100 steps\n",
    "    r = compute_orbit_radius(a, e, theta)\n",
    "    \n",
    "    theta_list.append(theta)\n",
    "    r_list.append(r)"
   ]
  },
  {
   "cell_type": "markdown",
   "id": "4e93f766",
   "metadata": {},
   "source": [
    "Now plot the values `r` vs `theta` using matplotlib. Don't worry too much about this code until you want to learn more about customizing visualizations."
   ]
  },
  {
   "cell_type": "code",
   "execution_count": null,
   "id": "5759ff82",
   "metadata": {},
   "outputs": [],
   "source": [
    "fig, ax = plt.subplots()\n",
    "ax.plot(theta_list, r_list)\n",
    "ax.set_xlabel(\"theta [radians]\")\n",
    "ax.set_ylabel(\"r [meters]\")\n",
    "plt.show()"
   ]
  },
  {
   "cell_type": "markdown",
   "id": "34dc20b0",
   "metadata": {},
   "source": [
    "## 1.4 Convert Polar to Cartesian\n",
    "That's also not very informative. What we really want is to visualize the orbit as a trajectory in space, and to that we need to convert from polar coordinate (`r`, `theta`) to cartesian coordinates (`x`, `y`).\n",
    "\n",
    "This is not a bad conversion, all we need is some simple trig:\n",
    "\n",
    "![](images/coordinates-triangle.gif)\n",
    "\n",
    "The function `convert_polar_to_cartesian` below converts a single `r, theta` pair in polar coordinates to the `x, y` cartesian equivalent. Can you replace the `x, y = utils...` line with your own implementation of the conversion ? (definitely use multiples lines)"
   ]
  },
  {
   "cell_type": "code",
   "execution_count": null,
   "id": "7964043b",
   "metadata": {},
   "outputs": [],
   "source": [
    "def convert_polar_to_cartesian(r, theta):\n",
    "    # replace the line below with your own implementation (if you want) (can be multiple lines)\n",
    "    x, y = utils.convert_polar_to_cartesian(r, theta)\n",
    "    \n",
    "    return x, y"
   ]
  },
  {
   "cell_type": "markdown",
   "id": "2283e527",
   "metadata": {},
   "source": [
    "Play around with a few values of `r, theta` to make sure the output makes sense"
   ]
  },
  {
   "cell_type": "code",
   "execution_count": null,
   "id": "a342074a",
   "metadata": {},
   "outputs": [],
   "source": [
    "x, y = convert_polar_to_cartesian(1, math.pi/2)\n",
    "print(x, y)"
   ]
  },
  {
   "cell_type": "markdown",
   "id": "39c12892",
   "metadata": {},
   "source": [
    "## 1.5 Visualize an Orbit\n",
    "Now we can put the pieces together and visualize a full orbit in cartesian space. We will 1) loop through many values of `theta` between 0 and two pi radians, 2) compute `r` using the polar orbit equation, 3) convert the `r,theta` pair to cartesian `x,y`, and 4) store those values in lists, 5) plot using `add_trajectory` from the utilities file."
   ]
  },
  {
   "cell_type": "code",
   "execution_count": null,
   "id": "83e8ec9e",
   "metadata": {},
   "outputs": [],
   "source": [
    "# variables you can change\n",
    "a = 10000000\n",
    "e = 0.2\n",
    "N = 100 # number of theta values to plot\n",
    "\n",
    "# these are empty lists that we will append data to in the loop below\n",
    "x_list = []\n",
    "y_list = []\n",
    "\n",
    "# the for loop steps through each value of i from 0 to 99\n",
    "for i in range(N):\n",
    "    theta = i * 2 * math.pi / N\n",
    "    r = compute_orbit_radius(a, e, theta)\n",
    "    \n",
    "    x, y = convert_polar_to_cartesian(r, theta)\n",
    "    \n",
    "    x_list.append(x)\n",
    "    y_list.append(y)\n",
    "    \n",
    "ax = utils.add_trajectory(x_list, y_list)"
   ]
  },
  {
   "cell_type": "markdown",
   "id": "4fabdcf0",
   "metadata": {},
   "source": [
    "## 1.6 Ground Track - First Attempt\n",
    "All the work above shows us the 2D trajectory of a satellite in the _orbit plane_. This is useful, but doesn't tell the whole story. Another way to visualize an orbit is to trace out the point directly below the satellite on the surface of the Earth as it moves through its orbit. This is called the _ground track_.\n",
    "\n",
    "To do this we need some more information about the orbit. The orbit plane trajectory above visualizes three orbital elements:\n",
    "- `a`: semi-major axis, size of the orbit\n",
    "- `e`: eccentricity, shape of the orbit\n",
    "- `theta`: true anomaly, where in the orbit we are right now relative to perigee (we varied `theta` to trace out the orbit)\n",
    "\n",
    "But there are three more orbital elements, which together describe the orientation of the orbit plane in 3D space:\n",
    "- `i`: inclination, the tilt of the orbit relative to the equator\n",
    "- `raan`: right ascension of the ascending node, where the line of intersection between orbital and equatorial planes points\n",
    "- `argp`: argument of perigee, where perigee occurs relative to the orbit/equator crossing\n",
    "\n",
    "Together these six _Keplerian Orbital Elements_ (5 constants, 1 variable) define an orbit and where you are in it.\n",
    "\n",
    "<img src=\"images/elements.png\" width=\"400\"/>"
   ]
  },
  {
   "cell_type": "markdown",
   "id": "bb7d2140",
   "metadata": {},
   "source": [
    "Similar to how we could convert orbit polar coordinates (`r, theta`) to 2D cartesian coordinates (`x,y`) we can convert the six orbital elements into 3D cartesian coordinates (`x,y,z`) for position and velocity. The equations for this conversion are beyond the scope of this exercise, and are included in `utilities_l1.py` as `convert_kepler_to_cartesian` (see [here](https://downloads.rene-schwarz.com/download/M001-Keplerian_Orbit_Elements_to_Cartesian_State_Vectors.pdf) for detailed reference)"
   ]
  },
  {
   "cell_type": "markdown",
   "id": "e6fd59d2",
   "metadata": {},
   "source": [
    "### 1.6.1 Cartesian to Lat/Lon Conversion\n",
    "Once we have our orbit in 3D cartesian coordinates, we need a way to project that trajectory to 2D. There are many ways to do this, but the simplest is to convert each point in the orbit to its corresponding _latitude_, _longitude_ and _altitude_, and then use only the first two, which will represent the point on the earth directly below the satellite.\n",
    "\n",
    "The conversion from lat/lon/alt ($\\phi / \\lambda / h$) to cartesian is straightforward given the figure and equations below. The conversion the other way (what we want to do), is _slightly_ more involved, but a good exercise in remembering your trig and algebra.\n",
    "\n",
    "<img src=\"images/latlon.png\" width=\"200\"/>\n",
    "\n",
    "$$\n",
    "x = (h + R_e) \\cos\\phi \\cos\\lambda\n",
    "$$\n",
    "\n",
    "$$\n",
    "y = (h + R_e) \\cos\\phi \\sin\\lambda\n",
    "$$\n",
    "\n",
    "$$\n",
    "z = (h + R_e) \\sin\\phi\n",
    "$$\n",
    "\n",
    "\n",
    "\n",
    "The function `convert_cartesian_to_lla` below converts a single `x,y,z` triplet to its `lat, lon, alt` equivalent. Can you replace the `lat,lon,alt = utils...` line with your own implementation of the conversion? (definitely use multiples lines)"
   ]
  },
  {
   "cell_type": "code",
   "execution_count": null,
   "id": "53bcfa05",
   "metadata": {},
   "outputs": [],
   "source": [
    "def convert_cartesian_to_lla(x, y, z):\n",
    "    # replace the line below with your own implementation (if you want) (can be multiple lines)\n",
    "    lat, lon, alt = utils.convert_cartesian_to_lla(x, y, z)\n",
    "    \n",
    "    return lat, lon, alt"
   ]
  },
  {
   "cell_type": "markdown",
   "id": "d625b5db",
   "metadata": {},
   "source": [
    "### 1.6.2 Ground Track Plotting\n",
    "We're now ready to build the ground track as a list of latitudes and a list of longitudes as the satellite moves through its orbit.\n",
    "\n",
    "The utilities includes a `add_latlon_trajectory` function to overlay the ground track on top of an equirectangular map projection. Don't worry about the contents of this function unless you want to dive into the weeds of how the visualization works."
   ]
  },
  {
   "cell_type": "code",
   "execution_count": null,
   "id": "8b785f66",
   "metadata": {},
   "outputs": [],
   "source": [
    "# variables you can change\n",
    "a = 100000000\n",
    "e = 0.1\n",
    "i = 70 * DEGREE_TO_RADIAN\n",
    "raan = 45 * DEGREE_TO_RADIAN\n",
    "argp = 0 * DEGREE_TO_RADIAN\n",
    "N = 100 # number of theta values to plot\n",
    "\n",
    "# these are empty lists that we will append data to in the loop below\n",
    "lat_list = []\n",
    "lon_list = []\n",
    "\n",
    "# the for loop steps through each value of i from 0 to 99\n",
    "for j in range(N):\n",
    "    theta = j * 2 * math.pi / N\n",
    "    x, y, z, vx, vy, vz = utils.convert_kepler_to_cartesian(a, e, i, raan, argp, theta)\n",
    "    \n",
    "    lat, lon, alt = convert_cartesian_to_lla(x, y, z)\n",
    "    \n",
    "    lat_list.append(lat)\n",
    "    lon_list.append(lon)\n",
    "    \n",
    "ax = utils.add_latlon_trajectory(lat_list, lon_list)"
   ]
  },
  {
   "cell_type": "markdown",
   "id": "9a5df5ca",
   "metadata": {},
   "source": [
    "## 1.7 Critical Thinking\n",
    "What happens to the ground track when you vary the eccentricity? How about the semi-major axis?\n",
    "\n",
    "Does this make sense?\n",
    "\n",
    "What have we not modeled that is causing our ground track to be off?\n",
    "\n",
    "Hint: What frame of reference is the orbit defined in (the output `x,y,z` from `convert_kepler_to_cartesian`)? What frame of reference is the ground track defined in (the output `lat,lon` from `convert_cartesian_to_lla`)?"
   ]
  }
 ],
 "metadata": {
  "kernelspec": {
   "display_name": "Python 3",
   "language": "python",
   "name": "python3"
  },
  "language_info": {
   "codemirror_mode": {
    "name": "ipython",
    "version": 3
   },
   "file_extension": ".py",
   "mimetype": "text/x-python",
   "name": "python",
   "nbconvert_exporter": "python",
   "pygments_lexer": "ipython3",
   "version": "3.6.8"
  }
 },
 "nbformat": 4,
 "nbformat_minor": 5
}
