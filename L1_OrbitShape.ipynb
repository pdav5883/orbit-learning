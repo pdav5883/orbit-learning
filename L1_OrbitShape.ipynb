{
 "cells": [
  {
   "cell_type": "markdown",
   "id": "c03ba44f",
   "metadata": {},
   "source": [
    "# Lesson 1: Orbit Shape\n",
    "In this notebook we'll work with the equations and parameters that describe the shape of an orbit in its plane. All code for the lesson is included in the file `utilities_l1.py`, with options in the notebook cells to write your own versions of the key functions.\n",
    "\n",
    "Reminder: double click into a cell to edit, and make sure you run each cell (Ctrl + Enter) as you move down the notebook so that the functions and variables are in memory. "
   ]
  },
  {
   "cell_type": "markdown",
   "id": "f2cd4a27",
   "metadata": {},
   "source": [
    "## 1.1 Preliminaries\n",
    "The first line imports code written in `utilities_l1.py` so that it can used in this notebook. To access the functions in that file use `utils.name_of_function`\n",
    "\n",
    "The second line imports Python's built-in math module, which contains functions like `math.cos()` and `math.sqrt()`.\n",
    "\n",
    "The third line imports a part of the matplotlib library used for plotting data.\n",
    "\n",
    "The final four lines define useful constants (also defined in `utilities_l1.py`)\n",
    "\n",
    "Note: unless otherwise stated, base units are meters, seconds, kilogram, radians"
   ]
  },
  {
   "cell_type": "code",
   "execution_count": 2,
   "id": "68d50bb0",
   "metadata": {},
   "outputs": [],
   "source": [
    "import utilities_l1 as utils\n",
    "import math\n",
    "import matplotlib.pyplot as plt\n",
    "\n",
    "RADIUS_EARTH = 6371008.0\n",
    "MU_EARTH = 398600441500000.0\n",
    "RADIAN_TO_DEGREE = 57.2957795131\n",
    "DEGREE_TO_RADIAN = 0.01745329251"
   ]
  },
  {
   "cell_type": "markdown",
   "id": "8283e69c",
   "metadata": {},
   "source": [
    "## 1.2 Polar Orbit Equation\n",
    "This equation describes the distance between the center of the Earth and the satellite (`r`) (note: not altitude!) as function of the angle that the satellite has progressed around its orbit (`theta`). The `theta = 0` occurs at the minimum value of `r` (perigee).\n",
    "\n",
    "If `theta` (radians) is the input to the equation, and `r` (meters) is the output, then there are two other constants in the equation that describe the orbit:\n",
    "- `a`: semi-major axis (meters), describes how big/small the orbit is\n",
    "- `e`: eccentricity (unitless), describes the shape of the orbit (note: for closed orbits discussed here `0 <= e < 1`)\n",
    "\n",
    "Here's the Polar Orbit Equation:\n",
    "\n",
    "$$\n",
    "r = \\frac{a(1-e^2)}{1 + e\\cos{\\theta}}\n",
    "$$\n",
    "\n",
    "The function `compute_orbit_radius` below returns the value of `r` for a given trio of `a`, `e`, and `theta`. Can you replace the `r = utils...` line with your own implementation of the polar orbit equation?"
   ]
  },
  {
   "cell_type": "code",
   "execution_count": 3,
   "id": "c91deffd",
   "metadata": {},
   "outputs": [],
   "source": [
    "def compute_orbit_radius(a, e, theta):\n",
    "    # replace the line below with your own implementation (if you want) (can be multiple lines)\n",
    "    r = utils.compute_orbit_radius(a, e, theta)\n",
    "    \n",
    "    return r"
   ]
  },
  {
   "cell_type": "markdown",
   "id": "a42aa539",
   "metadata": {},
   "source": [
    "Play around with a few values of `a, e, theta` (meters and radians!) to see what happens to `r` (make sure you run the cell above!)"
   ]
  },
  {
   "cell_type": "code",
   "execution_count": 6,
   "id": "d430ee7f",
   "metadata": {},
   "outputs": [
    {
     "name": "stdout",
     "output_type": "stream",
     "text": [
      "7000000.0\n"
     ]
    }
   ],
   "source": [
    "r = compute_orbit_radius(10000000, 0.3, 0)\n",
    "print(r)"
   ]
  },
  {
   "cell_type": "markdown",
   "id": "48bfe882",
   "metadata": {},
   "source": [
    "## 1.3 Plot Polar Orbit Equation\n",
    "A single number isn't very interesting. More interesting: what does the relationship between `r` and `theta` look like across multiple values (for constant `a, e`)?\n",
    "\n",
    "We can use the function we defined above, `compute_orbit_radius` to compute many values of `r` from many different `theta`, and then store the results in a list for use below."
   ]
  },
  {
   "cell_type": "code",
   "execution_count": 10,
   "id": "c84e9cb8",
   "metadata": {},
   "outputs": [],
   "source": [
    "# variables you can change\n",
    "a = 10000000\n",
    "e = 0.2\n",
    "\n",
    "# these are empty lists that we will append data to in the loop below\n",
    "theta_list = []\n",
    "r_list = []\n",
    "\n",
    "# the for loop steps through each value of i from 0 to 99\n",
    "for i in range(100):\n",
    "    theta = i * 0.0629 # value selected to go through two-pi in 100 steps\n",
    "    r = compute_orbit_radius(a, e, theta)\n",
    "    \n",
    "    theta_list.append(theta)\n",
    "    r_list.append(r)"
   ]
  },
  {
   "cell_type": "markdown",
   "id": "4e93f766",
   "metadata": {},
   "source": [
    "Now plot the values `r` vs `theta` using matplotlib. Don't worry too much about this code until you want to learn more about customizing visualizations."
   ]
  },
  {
   "cell_type": "code",
   "execution_count": 12,
   "id": "5759ff82",
   "metadata": {},
   "outputs": [
    {
     "data": {
      "image/png": "[encoded data removed]",
      "text/plain": [
       "<Figure size 432x288 with 1 Axes>"
      ]
     },
     "metadata": {
      "needs_background": "light"
     },
     "output_type": "display_data"
    }
   ],
   "source": [
    "fig, ax = plt.subplots()\n",
    "ax.plot(theta_list, r_list)\n",
    "ax.set_xlabel(\"theta [radians]\")\n",
    "ax.set_ylabel(\"r [meters]\")\n",
    "plt.show()"
   ]
  },
  {
   "cell_type": "markdown",
   "id": "34dc20b0",
   "metadata": {},
   "source": [
    "## 1.4 Convert to Polar to Cartesian\n",
    "That's also not very informative. What we really want is to visualize the orbit as a trajectory in space, and to that we need to convert from polar coordinate (`r`, `theta`) to cartesian coordinates (`x`, `y`).\n",
    "\n",
    "This is not a bad conversion, all we need is some simple trig:\n",
    "\n",
    "![title](images/coordinates-triangle.gif)\n",
    "\n",
    "The function `convert_polar_to_cartesian` below converts a single `r, theta` pair in polar coordinates to the `x, y` cartesian equivalent. Can you replace the `x, y = utils...` line with your own implementation of the conversion ? (definitely use multiples lines)"
   ]
  },
  {
   "cell_type": "code",
   "execution_count": 13,
   "id": "7964043b",
   "metadata": {},
   "outputs": [],
   "source": [
    "def convert_polar_to_cartesian(r, theta):\n",
    "    # replace the line below with your own implementation (if you want) (can be multiple lines)\n",
    "    x, y = utils.convert_polar_to_cartesian(r, theta)\n",
    "    \n",
    "    return x, y"
   ]
  },
  {
   "cell_type": "markdown",
   "id": "2283e527",
   "metadata": {},
   "source": [
    "Play around with a few values of `r, theta` to make sure the output makes sense"
   ]
  },
  {
   "cell_type": "code",
   "execution_count": 15,
   "id": "a342074a",
   "metadata": {},
   "outputs": [
    {
     "name": "stdout",
     "output_type": "stream",
     "text": [
      "6.123233995736766e-17 1.0\n"
     ]
    }
   ],
   "source": [
    "x, y = convert_polar_to_cartesian(1, math.pi/2)\n",
    "print(x, y)"
   ]
  },
  {
   "cell_type": "markdown",
   "id": "39c12892",
   "metadata": {},
   "source": [
    "## 1.5 Visualize an Orbit"
   ]
  },
  {
   "cell_type": "code",
   "execution_count": 2,
   "id": "87cd963f",
   "metadata": {},
   "outputs": [],
   "source": [
    "x, y = utils.compute_complete_orbit(30000000, 0.75, 100)"
   ]
  },
  {
   "cell_type": "code",
   "execution_count": 3,
   "id": "bf0d9fd8",
   "metadata": {},
   "outputs": [
    {
     "data": {
      "image/png": "[encoded data removed]",
      "text/plain": [
       "<Figure size 576x576 with 1 Axes>"
      ]
     },
     "metadata": {
      "needs_background": "light"
     },
     "output_type": "display_data"
    }
   ],
   "source": [
    "ax = utils.add_trajectory(x, y)"
   ]
  },
  {
   "cell_type": "markdown",
   "id": "4fabdcf0",
   "metadata": {},
   "source": [
    "## 1.6 Ground Track 1.0"
   ]
  }
 ],
 "metadata": {
  "kernelspec": {
   "display_name": "Python 3",
   "language": "python",
   "name": "python3"
  },
  "language_info": {
   "codemirror_mode": {
    "name": "ipython",
    "version": 3
   },
   "file_extension": ".py",
   "mimetype": "text/x-python",
   "name": "python",
   "nbconvert_exporter": "python",
   "pygments_lexer": "ipython3",
   "version": "3.6.8"
  }
 },
 "nbformat": 4,
 "nbformat_minor": 5
}
